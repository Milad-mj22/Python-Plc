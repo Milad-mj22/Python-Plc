{
 "cells": [
  {
   "cell_type": "code",
   "execution_count": 47,
   "metadata": {},
   "outputs": [],
   "source": [
    "from opcua import Client, ua"
   ]
  },
  {
   "cell_type": "code",
   "execution_count": 48,
   "metadata": {},
   "outputs": [
    {
     "name": "stderr",
     "output_type": "stream",
     "text": [
      "Requested session timeout to be 3600000ms, got 30000ms instead\n"
     ]
    }
   ],
   "source": [
    "client=Client(\"opc.tcp://192.168.0.1:4840\")\n",
    "client.connect()"
   ]
  },
  {
   "cell_type": "code",
   "execution_count": 49,
   "metadata": {},
   "outputs": [
    {
     "data": {
      "text/plain": [
       "['http://opcfoundation.org/UA/',\n",
       " 'urn:SIMATIC.S7-1200.OPC-UA.Application:PLC_1',\n",
       " 'http://opcfoundation.org/UA/DI/',\n",
       " 'http://www.siemens.com/simatic-s7-opcua',\n",
       " 'http://Server interface_1']"
      ]
     },
     "execution_count": 49,
     "metadata": {},
     "output_type": "execute_result"
    }
   ],
   "source": [
    "client.get_namespace_array()"
   ]
  },
  {
   "cell_type": "code",
   "execution_count": 50,
   "metadata": {},
   "outputs": [
    {
     "data": {
      "text/plain": [
       "[Node(TwoByteNodeId(i=85)),\n",
       " Node(TwoByteNodeId(i=86)),\n",
       " Node(TwoByteNodeId(i=87))]"
      ]
     },
     "execution_count": 50,
     "metadata": {},
     "output_type": "execute_result"
    }
   ],
   "source": [
    "root = client.get_root_node()\n",
    "root\n",
    "objects=root.get_children()\n",
    "objects\n"
   ]
  },
  {
   "cell_type": "code",
   "execution_count": 51,
   "metadata": {},
   "outputs": [
    {
     "data": {
      "text/plain": [
       "Node(TwoByteNodeId(i=85))"
      ]
     },
     "execution_count": 51,
     "metadata": {},
     "output_type": "execute_result"
    }
   ],
   "source": [
    "objects = client.get_objects_node()\n",
    "objects"
   ]
  },
  {
   "cell_type": "code",
   "execution_count": 52,
   "metadata": {},
   "outputs": [
    {
     "data": {
      "text/plain": [
       "[Node(FourByteNodeId(i=2994)),\n",
       " Node(FourByteNodeId(i=11492)),\n",
       " Node(FourByteNodeId(i=2255)),\n",
       " Node(FourByteNodeId(i=11715)),\n",
       " Node(FourByteNodeId(i=2254)),\n",
       " Node(FourByteNodeId(i=2268)),\n",
       " Node(FourByteNodeId(i=2274)),\n",
       " Node(FourByteNodeId(i=2296)),\n",
       " Node(FourByteNodeId(i=2256)),\n",
       " Node(FourByteNodeId(i=2267)),\n",
       " Node(FourByteNodeId(i=2295))]"
      ]
     },
     "execution_count": 52,
     "metadata": {},
     "output_type": "execute_result"
    }
   ],
   "source": [
    "temp = objects.get_children()\n",
    "temp2 = temp[0].get_children()\n",
    "temp2"
   ]
  },
  {
   "cell_type": "code",
   "execution_count": 53,
   "metadata": {},
   "outputs": [
    {
     "name": "stdout",
     "output_type": "stream",
     "text": [
      "[Node(FourByteNodeId(i=2253)), Node(FourByteNodeId(ns=2;i=5001)), Node(StringNodeId(ns=3;s=ServerInterfaces)), Node(StringNodeId(ns=3;s=PLC))]\n"
     ]
    }
   ],
   "source": [
    "# bulb=objects.get_children()[1]\n",
    "tempsens=[]\n",
    "print(objects.get_children())\n",
    "for i in range(len(objects.get_children())):\n",
    "    tempsens.append(objects.get_children()[i])"
   ]
  },
  {
   "cell_type": "code",
   "execution_count": 54,
   "metadata": {},
   "outputs": [
    {
     "data": {
      "text/plain": [
       "Node(StringNodeId(ns=3;s=ServerInterfaces))"
      ]
     },
     "execution_count": 54,
     "metadata": {},
     "output_type": "execute_result"
    }
   ],
   "source": [
    "# bulb.get_children()\n",
    "tempsens=objects.get_children()[2]\n",
    "tempsens"
   ]
  },
  {
   "cell_type": "code",
   "execution_count": 55,
   "metadata": {},
   "outputs": [
    {
     "data": {
      "text/plain": [
       "[Node(FourByteNodeId(ns=4;i=1))]"
      ]
     },
     "execution_count": 55,
     "metadata": {},
     "output_type": "execute_result"
    }
   ],
   "source": [
    "tempsens=tempsens.get_children()\n",
    "tempsens"
   ]
  },
  {
   "cell_type": "code",
   "execution_count": 56,
   "metadata": {},
   "outputs": [
    {
     "data": {
      "text/plain": [
       "[Node(FourByteNodeId(ns=4;i=3)),\n",
       " Node(FourByteNodeId(ns=4;i=4)),\n",
       " Node(FourByteNodeId(ns=4;i=5)),\n",
       " Node(FourByteNodeId(ns=4;i=6)),\n",
       " Node(FourByteNodeId(ns=4;i=7)),\n",
       " Node(FourByteNodeId(ns=4;i=8)),\n",
       " Node(FourByteNodeId(ns=4;i=2)),\n",
       " Node(FourByteNodeId(ns=4;i=9)),\n",
       " Node(FourByteNodeId(ns=4;i=10))]"
      ]
     },
     "execution_count": 56,
     "metadata": {},
     "output_type": "execute_result"
    }
   ],
   "source": [
    "tempsens=tempsens[0].get_children()\n",
    "tempsens\n"
   ]
  },
  {
   "cell_type": "code",
   "execution_count": 57,
   "metadata": {},
   "outputs": [],
   "source": [
    "tempsens=tempsens[8]"
   ]
  },
  {
   "cell_type": "code",
   "execution_count": 58,
   "metadata": {},
   "outputs": [],
   "source": [
    "def set_value():\n",
    "    import time\n",
    "    i=0\n",
    "    while True: \n",
    "        if i%2==0:\n",
    "            value_=True\n",
    "        else:\n",
    "            value_=False\n",
    "        value = ua.DataValue(ua.Variant(value_,ua.VariantType.Boolean))\n",
    "        tempsens.set_value(value)\n",
    "        i+=1\n",
    "\n",
    "        #print('asd')\n",
    "\n",
    "        time.sleep(1)\n",
    "        \n",
    "        # print(tempsens.get_value())\n",
    "#set_value()"
   ]
  },
  {
   "cell_type": "code",
   "execution_count": 59,
   "metadata": {},
   "outputs": [],
   "source": [
    "#threading.Thread(target=set_value(),args=None)"
   ]
  },
  {
   "cell_type": "code",
   "execution_count": 60,
   "metadata": {},
   "outputs": [],
   "source": [
    "#import threading\n",
    "\n",
    "#threading.Thread(target=get_values_plc(),args=None)\n"
   ]
  },
  {
   "cell_type": "code",
   "execution_count": 61,
   "metadata": {},
   "outputs": [
    {
     "name": "stdout",
     "output_type": "stream",
     "text": [
      "False\n",
      "False\n",
      "False\n",
      "False\n",
      "False\n",
      "False\n",
      "False\n",
      "False\n",
      "False\n",
      "False\n",
      "False\n",
      "False\n",
      "True\n",
      "True\n",
      "True\n",
      "True\n",
      "True\n",
      "True\n",
      "False\n",
      "False\n",
      "False\n",
      "False\n",
      "False\n"
     ]
    },
    {
     "ename": "KeyboardInterrupt",
     "evalue": "",
     "output_type": "error",
     "traceback": [
      "\u001b[1;31m---------------------------------------------------------------------------\u001b[0m",
      "\u001b[1;31mKeyboardInterrupt\u001b[0m                         Traceback (most recent call last)",
      "\u001b[1;32mc:\\Users\\Dorsa-Admin\\Desktop\\plc_connection\\client.ipynb Cell 15'\u001b[0m in \u001b[0;36m<cell line: 6>\u001b[1;34m()\u001b[0m\n\u001b[0;32m      <a href='vscode-notebook-cell:/c%3A/Users/Dorsa-Admin/Desktop/plc_connection/client.ipynb#ch0000014?line=3'>4</a>\u001b[0m         \u001b[39mprint\u001b[39m(tempsens\u001b[39m.\u001b[39mget_value())\n\u001b[0;32m      <a href='vscode-notebook-cell:/c%3A/Users/Dorsa-Admin/Desktop/plc_connection/client.ipynb#ch0000014?line=4'>5</a>\u001b[0m         time\u001b[39m.\u001b[39msleep(\u001b[39m1\u001b[39m)\n\u001b[1;32m----> <a href='vscode-notebook-cell:/c%3A/Users/Dorsa-Admin/Desktop/plc_connection/client.ipynb#ch0000014?line=5'>6</a>\u001b[0m get_values_plc()\n",
      "\u001b[1;32mc:\\Users\\Dorsa-Admin\\Desktop\\plc_connection\\client.ipynb Cell 15'\u001b[0m in \u001b[0;36mget_values_plc\u001b[1;34m()\u001b[0m\n\u001b[0;32m      <a href='vscode-notebook-cell:/c%3A/Users/Dorsa-Admin/Desktop/plc_connection/client.ipynb#ch0000014?line=2'>3</a>\u001b[0m \u001b[39mwhile\u001b[39;00m \u001b[39mTrue\u001b[39;00m:\n\u001b[0;32m      <a href='vscode-notebook-cell:/c%3A/Users/Dorsa-Admin/Desktop/plc_connection/client.ipynb#ch0000014?line=3'>4</a>\u001b[0m     \u001b[39mprint\u001b[39m(tempsens\u001b[39m.\u001b[39mget_value())\n\u001b[1;32m----> <a href='vscode-notebook-cell:/c%3A/Users/Dorsa-Admin/Desktop/plc_connection/client.ipynb#ch0000014?line=4'>5</a>\u001b[0m     time\u001b[39m.\u001b[39;49msleep(\u001b[39m1\u001b[39;49m)\n",
      "\u001b[1;31mKeyboardInterrupt\u001b[0m: "
     ]
    }
   ],
   "source": [
    "def get_values_plc():\n",
    "    import time\n",
    "    while True:\n",
    "        print(tempsens.get_value())\n",
    "        time.sleep(1)\n",
    "get_values_plc()"
   ]
  },
  {
   "cell_type": "code",
   "execution_count": null,
   "metadata": {},
   "outputs": [],
   "source": [
    "\n",
    "for j in range(len(tempsens)):\n",
    "    for i in range(len(tempsens[j].get_children())):\n",
    "        # print(i)\n",
    "        try:\n",
    "            state=tempsens[j].get_children()[i]\n",
    "            print(tempsens[j].get_children()[i],state.get_value())\n",
    "        except:\n",
    "            print(i,'eror')\n",
    "# state"
   ]
  },
  {
   "cell_type": "code",
   "execution_count": null,
   "metadata": {},
   "outputs": [
    {
     "ename": "BadAttributeIdInvalid",
     "evalue": "\"The attribute is not supported for the specified Node.\"(BadAttributeIdInvalid)",
     "output_type": "error",
     "traceback": [
      "\u001b[1;31m---------------------------------------------------------------------------\u001b[0m",
      "\u001b[1;31mBadAttributeIdInvalid\u001b[0m                     Traceback (most recent call last)",
      "\u001b[1;32mc:\\Users\\Dorsa-Admin\\Desktop\\plc_connection\\client.ipynb Cell 9'\u001b[0m in \u001b[0;36m<cell line: 1>\u001b[1;34m()\u001b[0m\n\u001b[1;32m----> <a href='vscode-notebook-cell:/c%3A/Users/Dorsa-Admin/Desktop/plc_connection/client.ipynb#ch0000008?line=0'>1</a>\u001b[0m state\u001b[39m.\u001b[39;49mget_value()\n",
      "File \u001b[1;32mc:\\Users\\milad\\AppData\\Local\\Programs\\Python\\Python39\\lib\\site-packages\\opcua\\common\\node.py:155\u001b[0m, in \u001b[0;36mNode.get_value\u001b[1;34m(self)\u001b[0m\n\u001b[0;32m    <a href='file:///c%3A/Users/milad/AppData/Local/Programs/Python/Python39/lib/site-packages/opcua/common/node.py?line=147'>148</a>\u001b[0m \u001b[39mdef\u001b[39;00m \u001b[39mget_value\u001b[39m(\u001b[39mself\u001b[39m):\n\u001b[0;32m    <a href='file:///c%3A/Users/milad/AppData/Local/Programs/Python/Python39/lib/site-packages/opcua/common/node.py?line=148'>149</a>\u001b[0m     \u001b[39m\"\"\"\u001b[39;00m\n\u001b[0;32m    <a href='file:///c%3A/Users/milad/AppData/Local/Programs/Python/Python39/lib/site-packages/opcua/common/node.py?line=149'>150</a>\u001b[0m \u001b[39m    Get value of a node as a python type. Only variables ( and properties) have values.\u001b[39;00m\n\u001b[0;32m    <a href='file:///c%3A/Users/milad/AppData/Local/Programs/Python/Python39/lib/site-packages/opcua/common/node.py?line=150'>151</a>\u001b[0m \u001b[39m    An exception will be generated for other node types.\u001b[39;00m\n\u001b[0;32m    <a href='file:///c%3A/Users/milad/AppData/Local/Programs/Python/Python39/lib/site-packages/opcua/common/node.py?line=151'>152</a>\u001b[0m \u001b[39m    WARNING: on server side, this function returns a ref to object in ua database. Do not modify it if it is a mutable\u001b[39;00m\n\u001b[0;32m    <a href='file:///c%3A/Users/milad/AppData/Local/Programs/Python/Python39/lib/site-packages/opcua/common/node.py?line=152'>153</a>\u001b[0m \u001b[39m    object unless you know what you are doing\u001b[39;00m\n\u001b[0;32m    <a href='file:///c%3A/Users/milad/AppData/Local/Programs/Python/Python39/lib/site-packages/opcua/common/node.py?line=153'>154</a>\u001b[0m \u001b[39m    \"\"\"\u001b[39;00m\n\u001b[1;32m--> <a href='file:///c%3A/Users/milad/AppData/Local/Programs/Python/Python39/lib/site-packages/opcua/common/node.py?line=154'>155</a>\u001b[0m     result \u001b[39m=\u001b[39m \u001b[39mself\u001b[39;49m\u001b[39m.\u001b[39;49mget_data_value()\n\u001b[0;32m    <a href='file:///c%3A/Users/milad/AppData/Local/Programs/Python/Python39/lib/site-packages/opcua/common/node.py?line=155'>156</a>\u001b[0m     \u001b[39mreturn\u001b[39;00m result\u001b[39m.\u001b[39mValue\u001b[39m.\u001b[39mValue\n",
      "File \u001b[1;32mc:\\Users\\milad\\AppData\\Local\\Programs\\Python\\Python39\\lib\\site-packages\\opcua\\common\\node.py:164\u001b[0m, in \u001b[0;36mNode.get_data_value\u001b[1;34m(self)\u001b[0m\n\u001b[0;32m    <a href='file:///c%3A/Users/milad/AppData/Local/Programs/Python/Python39/lib/site-packages/opcua/common/node.py?line=157'>158</a>\u001b[0m \u001b[39mdef\u001b[39;00m \u001b[39mget_data_value\u001b[39m(\u001b[39mself\u001b[39m):\n\u001b[0;32m    <a href='file:///c%3A/Users/milad/AppData/Local/Programs/Python/Python39/lib/site-packages/opcua/common/node.py?line=158'>159</a>\u001b[0m     \u001b[39m\"\"\"\u001b[39;00m\n\u001b[0;32m    <a href='file:///c%3A/Users/milad/AppData/Local/Programs/Python/Python39/lib/site-packages/opcua/common/node.py?line=159'>160</a>\u001b[0m \u001b[39m    Get value of a node as a DataValue object. Only variables (and properties) have values.\u001b[39;00m\n\u001b[0;32m    <a href='file:///c%3A/Users/milad/AppData/Local/Programs/Python/Python39/lib/site-packages/opcua/common/node.py?line=160'>161</a>\u001b[0m \u001b[39m    An exception will be generated for other node types.\u001b[39;00m\n\u001b[0;32m    <a href='file:///c%3A/Users/milad/AppData/Local/Programs/Python/Python39/lib/site-packages/opcua/common/node.py?line=161'>162</a>\u001b[0m \u001b[39m    DataValue contain a variable value as a variant as well as server and source timestamps\u001b[39;00m\n\u001b[0;32m    <a href='file:///c%3A/Users/milad/AppData/Local/Programs/Python/Python39/lib/site-packages/opcua/common/node.py?line=162'>163</a>\u001b[0m \u001b[39m    \"\"\"\u001b[39;00m\n\u001b[1;32m--> <a href='file:///c%3A/Users/milad/AppData/Local/Programs/Python/Python39/lib/site-packages/opcua/common/node.py?line=163'>164</a>\u001b[0m     \u001b[39mreturn\u001b[39;00m \u001b[39mself\u001b[39;49m\u001b[39m.\u001b[39;49mget_attribute(ua\u001b[39m.\u001b[39;49mAttributeIds\u001b[39m.\u001b[39;49mValue)\n",
      "File \u001b[1;32mc:\\Users\\milad\\AppData\\Local\\Programs\\Python\\Python39\\lib\\site-packages\\opcua\\common\\node.py:276\u001b[0m, in \u001b[0;36mNode.get_attribute\u001b[1;34m(self, attr)\u001b[0m\n\u001b[0;32m    <a href='file:///c%3A/Users/milad/AppData/Local/Programs/Python/Python39/lib/site-packages/opcua/common/node.py?line=273'>274</a>\u001b[0m params\u001b[39m.\u001b[39mNodesToRead\u001b[39m.\u001b[39mappend(rv)\n\u001b[0;32m    <a href='file:///c%3A/Users/milad/AppData/Local/Programs/Python/Python39/lib/site-packages/opcua/common/node.py?line=274'>275</a>\u001b[0m result \u001b[39m=\u001b[39m \u001b[39mself\u001b[39m\u001b[39m.\u001b[39mserver\u001b[39m.\u001b[39mread(params)\n\u001b[1;32m--> <a href='file:///c%3A/Users/milad/AppData/Local/Programs/Python/Python39/lib/site-packages/opcua/common/node.py?line=275'>276</a>\u001b[0m result[\u001b[39m0\u001b[39;49m]\u001b[39m.\u001b[39;49mStatusCode\u001b[39m.\u001b[39;49mcheck()\n\u001b[0;32m    <a href='file:///c%3A/Users/milad/AppData/Local/Programs/Python/Python39/lib/site-packages/opcua/common/node.py?line=276'>277</a>\u001b[0m \u001b[39mreturn\u001b[39;00m result[\u001b[39m0\u001b[39m]\n",
      "File \u001b[1;32mc:\\Users\\milad\\AppData\\Local\\Programs\\Python\\Python39\\lib\\site-packages\\opcua\\ua\\uatypes.py:218\u001b[0m, in \u001b[0;36mStatusCode.check\u001b[1;34m(self)\u001b[0m\n\u001b[0;32m    <a href='file:///c%3A/Users/milad/AppData/Local/Programs/Python/Python39/lib/site-packages/opcua/ua/uatypes.py?line=211'>212</a>\u001b[0m \u001b[39m\"\"\"\u001b[39;00m\n\u001b[0;32m    <a href='file:///c%3A/Users/milad/AppData/Local/Programs/Python/Python39/lib/site-packages/opcua/ua/uatypes.py?line=212'>213</a>\u001b[0m \u001b[39mRaises an exception if the status code is anything else than 0 (good).\u001b[39;00m\n\u001b[0;32m    <a href='file:///c%3A/Users/milad/AppData/Local/Programs/Python/Python39/lib/site-packages/opcua/ua/uatypes.py?line=213'>214</a>\u001b[0m \n\u001b[0;32m    <a href='file:///c%3A/Users/milad/AppData/Local/Programs/Python/Python39/lib/site-packages/opcua/ua/uatypes.py?line=214'>215</a>\u001b[0m \u001b[39mUse the is_good() method if you do not want an exception.\u001b[39;00m\n\u001b[0;32m    <a href='file:///c%3A/Users/milad/AppData/Local/Programs/Python/Python39/lib/site-packages/opcua/ua/uatypes.py?line=215'>216</a>\u001b[0m \u001b[39m\"\"\"\u001b[39;00m\n\u001b[0;32m    <a href='file:///c%3A/Users/milad/AppData/Local/Programs/Python/Python39/lib/site-packages/opcua/ua/uatypes.py?line=216'>217</a>\u001b[0m \u001b[39mif\u001b[39;00m \u001b[39mnot\u001b[39;00m \u001b[39mself\u001b[39m\u001b[39m.\u001b[39mis_good():\n\u001b[1;32m--> <a href='file:///c%3A/Users/milad/AppData/Local/Programs/Python/Python39/lib/site-packages/opcua/ua/uatypes.py?line=217'>218</a>\u001b[0m     \u001b[39mraise\u001b[39;00m UaStatusCodeError(\u001b[39mself\u001b[39m\u001b[39m.\u001b[39mvalue)\n",
      "\u001b[1;31mBadAttributeIdInvalid\u001b[0m: \"The attribute is not supported for the specified Node.\"(BadAttributeIdInvalid)"
     ]
    }
   ],
   "source": []
  },
  {
   "cell_type": "code",
   "execution_count": null,
   "metadata": {},
   "outputs": [
    {
     "ename": "BadNotWritable",
     "evalue": "\"The access level does not allow writing to the Node.\"(BadNotWritable)",
     "output_type": "error",
     "traceback": [
      "\u001b[1;31m---------------------------------------------------------------------------\u001b[0m",
      "\u001b[1;31mBadNotWritable\u001b[0m                            Traceback (most recent call last)",
      "\u001b[1;32mc:\\Users\\Dorsa-Admin\\Desktop\\plc_connection\\client.ipynb Cell 10'\u001b[0m in \u001b[0;36m<cell line: 1>\u001b[1;34m()\u001b[0m\n\u001b[1;32m----> <a href='vscode-notebook-cell:/c%3A/Users/Dorsa-Admin/Desktop/plc_connection/client.ipynb#ch0000009?line=0'>1</a>\u001b[0m state\u001b[39m.\u001b[39;49mset_value(\u001b[39mTrue\u001b[39;49;00m)\n",
      "File \u001b[1;32mc:\\Users\\milad\\AppData\\Local\\Programs\\Python\\Python39\\lib\\site-packages\\opcua\\common\\node.py:217\u001b[0m, in \u001b[0;36mNode.set_value\u001b[1;34m(self, value, varianttype)\u001b[0m\n\u001b[0;32m    <a href='file:///c%3A/Users/milad/AppData/Local/Programs/Python/Python39/lib/site-packages/opcua/common/node.py?line=214'>215</a>\u001b[0m     datavalue \u001b[39m=\u001b[39m ua\u001b[39m.\u001b[39mDataValue(ua\u001b[39m.\u001b[39mVariant(value, varianttype))\n\u001b[0;32m    <a href='file:///c%3A/Users/milad/AppData/Local/Programs/Python/Python39/lib/site-packages/opcua/common/node.py?line=215'>216</a>\u001b[0m     datavalue\u001b[39m.\u001b[39mSourceTimestamp \u001b[39m=\u001b[39m datetime\u001b[39m.\u001b[39mutcnow()\n\u001b[1;32m--> <a href='file:///c%3A/Users/milad/AppData/Local/Programs/Python/Python39/lib/site-packages/opcua/common/node.py?line=216'>217</a>\u001b[0m \u001b[39mself\u001b[39;49m\u001b[39m.\u001b[39;49mset_attribute(ua\u001b[39m.\u001b[39;49mAttributeIds\u001b[39m.\u001b[39;49mValue, datavalue)\n",
      "File \u001b[1;32mc:\\Users\\milad\\AppData\\Local\\Programs\\Python\\Python39\\lib\\site-packages\\opcua\\common\\node.py:263\u001b[0m, in \u001b[0;36mNode.set_attribute\u001b[1;34m(self, attributeid, datavalue)\u001b[0m\n\u001b[0;32m    <a href='file:///c%3A/Users/milad/AppData/Local/Programs/Python/Python39/lib/site-packages/opcua/common/node.py?line=260'>261</a>\u001b[0m params\u001b[39m.\u001b[39mNodesToWrite \u001b[39m=\u001b[39m [attr]\n\u001b[0;32m    <a href='file:///c%3A/Users/milad/AppData/Local/Programs/Python/Python39/lib/site-packages/opcua/common/node.py?line=261'>262</a>\u001b[0m result \u001b[39m=\u001b[39m \u001b[39mself\u001b[39m\u001b[39m.\u001b[39mserver\u001b[39m.\u001b[39mwrite(params)\n\u001b[1;32m--> <a href='file:///c%3A/Users/milad/AppData/Local/Programs/Python/Python39/lib/site-packages/opcua/common/node.py?line=262'>263</a>\u001b[0m result[\u001b[39m0\u001b[39;49m]\u001b[39m.\u001b[39;49mcheck()\n",
      "File \u001b[1;32mc:\\Users\\milad\\AppData\\Local\\Programs\\Python\\Python39\\lib\\site-packages\\opcua\\ua\\uatypes.py:218\u001b[0m, in \u001b[0;36mStatusCode.check\u001b[1;34m(self)\u001b[0m\n\u001b[0;32m    <a href='file:///c%3A/Users/milad/AppData/Local/Programs/Python/Python39/lib/site-packages/opcua/ua/uatypes.py?line=211'>212</a>\u001b[0m \u001b[39m\"\"\"\u001b[39;00m\n\u001b[0;32m    <a href='file:///c%3A/Users/milad/AppData/Local/Programs/Python/Python39/lib/site-packages/opcua/ua/uatypes.py?line=212'>213</a>\u001b[0m \u001b[39mRaises an exception if the status code is anything else than 0 (good).\u001b[39;00m\n\u001b[0;32m    <a href='file:///c%3A/Users/milad/AppData/Local/Programs/Python/Python39/lib/site-packages/opcua/ua/uatypes.py?line=213'>214</a>\u001b[0m \n\u001b[0;32m    <a href='file:///c%3A/Users/milad/AppData/Local/Programs/Python/Python39/lib/site-packages/opcua/ua/uatypes.py?line=214'>215</a>\u001b[0m \u001b[39mUse the is_good() method if you do not want an exception.\u001b[39;00m\n\u001b[0;32m    <a href='file:///c%3A/Users/milad/AppData/Local/Programs/Python/Python39/lib/site-packages/opcua/ua/uatypes.py?line=215'>216</a>\u001b[0m \u001b[39m\"\"\"\u001b[39;00m\n\u001b[0;32m    <a href='file:///c%3A/Users/milad/AppData/Local/Programs/Python/Python39/lib/site-packages/opcua/ua/uatypes.py?line=216'>217</a>\u001b[0m \u001b[39mif\u001b[39;00m \u001b[39mnot\u001b[39;00m \u001b[39mself\u001b[39m\u001b[39m.\u001b[39mis_good():\n\u001b[1;32m--> <a href='file:///c%3A/Users/milad/AppData/Local/Programs/Python/Python39/lib/site-packages/opcua/ua/uatypes.py?line=217'>218</a>\u001b[0m     \u001b[39mraise\u001b[39;00m UaStatusCodeError(\u001b[39mself\u001b[39m\u001b[39m.\u001b[39mvalue)\n",
      "\u001b[1;31mBadNotWritable\u001b[0m: \"The access level does not allow writing to the Node.\"(BadNotWritable)"
     ]
    }
   ],
   "source": [
    "state.set_value(True)"
   ]
  },
  {
   "cell_type": "code",
   "execution_count": null,
   "metadata": {},
   "outputs": [],
   "source": [
    "state.set_value(False)"
   ]
  },
  {
   "cell_type": "code",
   "execution_count": null,
   "metadata": {},
   "outputs": [
    {
     "ename": "BadAttributeIdInvalid",
     "evalue": "\"The attribute is not supported for the specified Node.\"(BadAttributeIdInvalid)",
     "output_type": "error",
     "traceback": [
      "\u001b[1;31m---------------------------------------------------------------------------\u001b[0m",
      "\u001b[1;31mBadAttributeIdInvalid\u001b[0m                     Traceback (most recent call last)",
      "\u001b[1;32mc:\\Users\\Dorsa-Admin\\Desktop\\plc_connection\\client.ipynb Cell 12'\u001b[0m in \u001b[0;36m<cell line: 3>\u001b[1;34m()\u001b[0m\n\u001b[0;32m      <a href='vscode-notebook-cell:/c%3A/Users/Dorsa-Admin/Desktop/plc_connection/client.ipynb#ch0000011?line=0'>1</a>\u001b[0m \u001b[39mwhile\u001b[39;00m \u001b[39mTrue\u001b[39;00m:\n\u001b[1;32m----> <a href='vscode-notebook-cell:/c%3A/Users/Dorsa-Admin/Desktop/plc_connection/client.ipynb#ch0000011?line=2'>3</a>\u001b[0m     \u001b[39mif\u001b[39;00m state\u001b[39m.\u001b[39;49mget_value():\n\u001b[0;32m      <a href='vscode-notebook-cell:/c%3A/Users/Dorsa-Admin/Desktop/plc_connection/client.ipynb#ch0000011?line=5'>6</a>\u001b[0m         \u001b[39mprint\u001b[39m(state\u001b[39m.\u001b[39mget_value())\n",
      "File \u001b[1;32mc:\\Users\\milad\\AppData\\Local\\Programs\\Python\\Python39\\lib\\site-packages\\opcua\\common\\node.py:155\u001b[0m, in \u001b[0;36mNode.get_value\u001b[1;34m(self)\u001b[0m\n\u001b[0;32m    <a href='file:///c%3A/Users/milad/AppData/Local/Programs/Python/Python39/lib/site-packages/opcua/common/node.py?line=147'>148</a>\u001b[0m \u001b[39mdef\u001b[39;00m \u001b[39mget_value\u001b[39m(\u001b[39mself\u001b[39m):\n\u001b[0;32m    <a href='file:///c%3A/Users/milad/AppData/Local/Programs/Python/Python39/lib/site-packages/opcua/common/node.py?line=148'>149</a>\u001b[0m     \u001b[39m\"\"\"\u001b[39;00m\n\u001b[0;32m    <a href='file:///c%3A/Users/milad/AppData/Local/Programs/Python/Python39/lib/site-packages/opcua/common/node.py?line=149'>150</a>\u001b[0m \u001b[39m    Get value of a node as a python type. Only variables ( and properties) have values.\u001b[39;00m\n\u001b[0;32m    <a href='file:///c%3A/Users/milad/AppData/Local/Programs/Python/Python39/lib/site-packages/opcua/common/node.py?line=150'>151</a>\u001b[0m \u001b[39m    An exception will be generated for other node types.\u001b[39;00m\n\u001b[0;32m    <a href='file:///c%3A/Users/milad/AppData/Local/Programs/Python/Python39/lib/site-packages/opcua/common/node.py?line=151'>152</a>\u001b[0m \u001b[39m    WARNING: on server side, this function returns a ref to object in ua database. Do not modify it if it is a mutable\u001b[39;00m\n\u001b[0;32m    <a href='file:///c%3A/Users/milad/AppData/Local/Programs/Python/Python39/lib/site-packages/opcua/common/node.py?line=152'>153</a>\u001b[0m \u001b[39m    object unless you know what you are doing\u001b[39;00m\n\u001b[0;32m    <a href='file:///c%3A/Users/milad/AppData/Local/Programs/Python/Python39/lib/site-packages/opcua/common/node.py?line=153'>154</a>\u001b[0m \u001b[39m    \"\"\"\u001b[39;00m\n\u001b[1;32m--> <a href='file:///c%3A/Users/milad/AppData/Local/Programs/Python/Python39/lib/site-packages/opcua/common/node.py?line=154'>155</a>\u001b[0m     result \u001b[39m=\u001b[39m \u001b[39mself\u001b[39;49m\u001b[39m.\u001b[39;49mget_data_value()\n\u001b[0;32m    <a href='file:///c%3A/Users/milad/AppData/Local/Programs/Python/Python39/lib/site-packages/opcua/common/node.py?line=155'>156</a>\u001b[0m     \u001b[39mreturn\u001b[39;00m result\u001b[39m.\u001b[39mValue\u001b[39m.\u001b[39mValue\n",
      "File \u001b[1;32mc:\\Users\\milad\\AppData\\Local\\Programs\\Python\\Python39\\lib\\site-packages\\opcua\\common\\node.py:164\u001b[0m, in \u001b[0;36mNode.get_data_value\u001b[1;34m(self)\u001b[0m\n\u001b[0;32m    <a href='file:///c%3A/Users/milad/AppData/Local/Programs/Python/Python39/lib/site-packages/opcua/common/node.py?line=157'>158</a>\u001b[0m \u001b[39mdef\u001b[39;00m \u001b[39mget_data_value\u001b[39m(\u001b[39mself\u001b[39m):\n\u001b[0;32m    <a href='file:///c%3A/Users/milad/AppData/Local/Programs/Python/Python39/lib/site-packages/opcua/common/node.py?line=158'>159</a>\u001b[0m     \u001b[39m\"\"\"\u001b[39;00m\n\u001b[0;32m    <a href='file:///c%3A/Users/milad/AppData/Local/Programs/Python/Python39/lib/site-packages/opcua/common/node.py?line=159'>160</a>\u001b[0m \u001b[39m    Get value of a node as a DataValue object. Only variables (and properties) have values.\u001b[39;00m\n\u001b[0;32m    <a href='file:///c%3A/Users/milad/AppData/Local/Programs/Python/Python39/lib/site-packages/opcua/common/node.py?line=160'>161</a>\u001b[0m \u001b[39m    An exception will be generated for other node types.\u001b[39;00m\n\u001b[0;32m    <a href='file:///c%3A/Users/milad/AppData/Local/Programs/Python/Python39/lib/site-packages/opcua/common/node.py?line=161'>162</a>\u001b[0m \u001b[39m    DataValue contain a variable value as a variant as well as server and source timestamps\u001b[39;00m\n\u001b[0;32m    <a href='file:///c%3A/Users/milad/AppData/Local/Programs/Python/Python39/lib/site-packages/opcua/common/node.py?line=162'>163</a>\u001b[0m \u001b[39m    \"\"\"\u001b[39;00m\n\u001b[1;32m--> <a href='file:///c%3A/Users/milad/AppData/Local/Programs/Python/Python39/lib/site-packages/opcua/common/node.py?line=163'>164</a>\u001b[0m     \u001b[39mreturn\u001b[39;00m \u001b[39mself\u001b[39;49m\u001b[39m.\u001b[39;49mget_attribute(ua\u001b[39m.\u001b[39;49mAttributeIds\u001b[39m.\u001b[39;49mValue)\n",
      "File \u001b[1;32mc:\\Users\\milad\\AppData\\Local\\Programs\\Python\\Python39\\lib\\site-packages\\opcua\\common\\node.py:276\u001b[0m, in \u001b[0;36mNode.get_attribute\u001b[1;34m(self, attr)\u001b[0m\n\u001b[0;32m    <a href='file:///c%3A/Users/milad/AppData/Local/Programs/Python/Python39/lib/site-packages/opcua/common/node.py?line=273'>274</a>\u001b[0m params\u001b[39m.\u001b[39mNodesToRead\u001b[39m.\u001b[39mappend(rv)\n\u001b[0;32m    <a href='file:///c%3A/Users/milad/AppData/Local/Programs/Python/Python39/lib/site-packages/opcua/common/node.py?line=274'>275</a>\u001b[0m result \u001b[39m=\u001b[39m \u001b[39mself\u001b[39m\u001b[39m.\u001b[39mserver\u001b[39m.\u001b[39mread(params)\n\u001b[1;32m--> <a href='file:///c%3A/Users/milad/AppData/Local/Programs/Python/Python39/lib/site-packages/opcua/common/node.py?line=275'>276</a>\u001b[0m result[\u001b[39m0\u001b[39;49m]\u001b[39m.\u001b[39;49mStatusCode\u001b[39m.\u001b[39;49mcheck()\n\u001b[0;32m    <a href='file:///c%3A/Users/milad/AppData/Local/Programs/Python/Python39/lib/site-packages/opcua/common/node.py?line=276'>277</a>\u001b[0m \u001b[39mreturn\u001b[39;00m result[\u001b[39m0\u001b[39m]\n",
      "File \u001b[1;32mc:\\Users\\milad\\AppData\\Local\\Programs\\Python\\Python39\\lib\\site-packages\\opcua\\ua\\uatypes.py:218\u001b[0m, in \u001b[0;36mStatusCode.check\u001b[1;34m(self)\u001b[0m\n\u001b[0;32m    <a href='file:///c%3A/Users/milad/AppData/Local/Programs/Python/Python39/lib/site-packages/opcua/ua/uatypes.py?line=211'>212</a>\u001b[0m \u001b[39m\"\"\"\u001b[39;00m\n\u001b[0;32m    <a href='file:///c%3A/Users/milad/AppData/Local/Programs/Python/Python39/lib/site-packages/opcua/ua/uatypes.py?line=212'>213</a>\u001b[0m \u001b[39mRaises an exception if the status code is anything else than 0 (good).\u001b[39;00m\n\u001b[0;32m    <a href='file:///c%3A/Users/milad/AppData/Local/Programs/Python/Python39/lib/site-packages/opcua/ua/uatypes.py?line=213'>214</a>\u001b[0m \n\u001b[0;32m    <a href='file:///c%3A/Users/milad/AppData/Local/Programs/Python/Python39/lib/site-packages/opcua/ua/uatypes.py?line=214'>215</a>\u001b[0m \u001b[39mUse the is_good() method if you do not want an exception.\u001b[39;00m\n\u001b[0;32m    <a href='file:///c%3A/Users/milad/AppData/Local/Programs/Python/Python39/lib/site-packages/opcua/ua/uatypes.py?line=215'>216</a>\u001b[0m \u001b[39m\"\"\"\u001b[39;00m\n\u001b[0;32m    <a href='file:///c%3A/Users/milad/AppData/Local/Programs/Python/Python39/lib/site-packages/opcua/ua/uatypes.py?line=216'>217</a>\u001b[0m \u001b[39mif\u001b[39;00m \u001b[39mnot\u001b[39;00m \u001b[39mself\u001b[39m\u001b[39m.\u001b[39mis_good():\n\u001b[1;32m--> <a href='file:///c%3A/Users/milad/AppData/Local/Programs/Python/Python39/lib/site-packages/opcua/ua/uatypes.py?line=217'>218</a>\u001b[0m     \u001b[39mraise\u001b[39;00m UaStatusCodeError(\u001b[39mself\u001b[39m\u001b[39m.\u001b[39mvalue)\n",
      "\u001b[1;31mBadAttributeIdInvalid\u001b[0m: \"The attribute is not supported for the specified Node.\"(BadAttributeIdInvalid)"
     ]
    }
   ],
   "source": [
    "while True:\n",
    "\n",
    "    if state.get_value():\n",
    "\n",
    "\n",
    "        print(state.get_value())"
   ]
  },
  {
   "cell_type": "code",
   "execution_count": null,
   "metadata": {},
   "outputs": [],
   "source": []
  }
 ],
 "metadata": {
  "interpreter": {
   "hash": "f6392f9de90504649a2837a177bcf8490372baaab3cd2f272b48ffa7846be2be"
  },
  "kernelspec": {
   "display_name": "Python 3.9.7 64-bit (system)",
   "language": "python",
   "name": "python3"
  },
  "language_info": {
   "codemirror_mode": {
    "name": "ipython",
    "version": 3
   },
   "file_extension": ".py",
   "mimetype": "text/x-python",
   "name": "python",
   "nbconvert_exporter": "python",
   "pygments_lexer": "ipython3",
   "version": "3.9.7"
  },
  "orig_nbformat": 4
 },
 "nbformat": 4,
 "nbformat_minor": 2
}
